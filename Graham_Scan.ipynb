{
 "cells": [
  {
   "cell_type": "code",
   "execution_count": 1,
   "metadata": {
    "id": "GLuE_h0E9COH"
   },
   "outputs": [],
   "source": [
    "import random\n",
    "import matplotlib.pyplot as plt"
   ]
  },
  {
   "cell_type": "code",
   "execution_count": 2,
   "metadata": {
    "id": "A_G3XsP2DZtI"
   },
   "outputs": [],
   "source": [
    "def create_points(mn, mx, r):\n",
    "  points = [(random.randint(mn, mx), random.randint(mn, mx)) for _ in range(r)]\n",
    "  return points"
   ]
  },
  {
   "cell_type": "code",
   "execution_count": 3,
   "metadata": {
    "id": "SzVevBZg9HpM"
   },
   "outputs": [],
   "source": [
    "def orient(p1, p2, p3):\n",
    "  cross_product = ((p2[1] - p1[1]) * (p3[0] - p2[0])) - ((p3[1] - p2[1]) * (p2[0] - p1[0]))\n",
    "  return cross_product"
   ]
  },
  {
   "cell_type": "code",
   "execution_count": 4,
   "metadata": {
    "id": "V4PHbUeRFCHQ"
   },
   "outputs": [],
   "source": [
    "def create_hull(points):\n",
    "  points.sort(key=lambda x: [x[0], x[1]])\n",
    "  H = [points[0], points[1]]\n",
    "  \n",
    "  # LOWER HULL\n",
    "  for i in range(2, len(points)):\n",
    "    while len(H) >= 2 and orient(points[i], H[-1], H[-2]) < 0:\n",
    "      H.pop()\n",
    "    H.append(points[i])\n",
    "  \n",
    "  # UPPER HULL\n",
    "  H1 = []\n",
    "  for j in range(len(points) - 1, -1, -1):\n",
    "    while len(H1) >= 2 and orient(points[j], H1[-1], H1[-2]) < 0:\n",
    "      H1.pop()\n",
    "    H1.append(points[j])\n",
    "  \n",
    "  # MERGING HULLS\n",
    "  H_final = H + H1\n",
    "  H_final = list(dict.fromkeys(H_final)) # Removing duplicate points\n",
    "  H_final.append(points[0]) # Appending the first point to last again\n",
    "  \n",
    "  return H_final"
   ]
  },
  {
   "cell_type": "code",
   "execution_count": 5,
   "metadata": {
    "id": "yU0ewSVcHqBM"
   },
   "outputs": [],
   "source": [
    "def scatter_plot(points, H):\n",
    "  x, y = zip(*points) # Extracting the x and y coordinates from the list\n",
    "  plt.scatter(x, y)\n",
    "  \n",
    "  for i in range(0, len(H) - 1):\n",
    "    c0 = H[i]\n",
    "    c1 = H[i + 1]\n",
    "    plt.plot((c0[0], c1[0]), (c0[1], c1[1]), 'r')\n",
    "  \n",
    "  plt.show()"
   ]
  },
  {
   "cell_type": "code",
   "execution_count": 6,
   "metadata": {
    "id": "5r1fj-OtGKHL"
   },
   "outputs": [],
   "source": [
    "def main():\n",
    "  mn = int(input(\"Enter the minimum limit of the grid: \"))\n",
    "  mx = int(input(\"Enter the maximum limit of the grid: \"))\n",
    "  print(\"Dimension of the grid will be \" + str(mx) + \" x \" + str(mx))\n",
    "  r = int(input(\"Enter the no. of points you want in the grid: \"))\n",
    "  \n",
    "  points = create_points(mn, mx, r)\n",
    "  H = create_hull(points)\n",
    "  print(\"\\n\")\n",
    "  scatter_plot(points, H)\n",
    "  print(\"\\nThe points: \" + str(points))\n",
    "  print(\"\\nThe hull points: \" + str(H))"
   ]
  },
  {
   "cell_type": "code",
   "execution_count": 7,
   "metadata": {
    "colab": {
     "base_uri": "https://localhost:8080/",
     "height": 439
    },
    "id": "mL_Xm_raHkQd",
    "outputId": "90e0e63f-6e8c-49b1-8897-a8bd141dba98"
   },
   "outputs": [
    {
     "name": "stdout",
     "output_type": "stream",
     "text": [
      "Enter the minimum limit of the grid: 0\n",
      "Enter the maximum limit of the grid: 100\n",
      "Dimension of the grid will be 100 x 100\n",
      "Enter the no. of points you want in the grid: 10\n",
      "\n",
      "\n"
     ]
    },
    {
     "data": {
      "image/png": "[encoded data removed]",
      "text/plain": [
       "<Figure size 432x288 with 1 Axes>"
      ]
     },
     "metadata": {
      "needs_background": "light"
     },
     "output_type": "display_data"
    },
    {
     "name": "stdout",
     "output_type": "stream",
     "text": [
      "\n",
      "The points: [(9, 21), (15, 58), (26, 19), (44, 52), (47, 8), (49, 98), (60, 42), (64, 31), (66, 73), (97, 6)]\n",
      "\n",
      "The hull points: [(9, 21), (47, 8), (97, 6), (66, 73), (49, 98), (15, 58), (9, 21)]\n"
     ]
    }
   ],
   "source": [
    "if __name__ == \"__main__\":\n",
    "  main()"
   ]
  }
 ],
 "metadata": {
  "colab": {
   "collapsed_sections": [],
   "name": "Graham_Scan.ipynb",
   "provenance": []
  },
  "kernelspec": {
   "display_name": "Python 3",
   "language": "python",
   "name": "python3"
  },
  "language_info": {
   "codemirror_mode": {
    "name": "ipython",
    "version": 3
   },
   "file_extension": ".py",
   "mimetype": "text/x-python",
   "name": "python",
   "nbconvert_exporter": "python",
   "pygments_lexer": "ipython3",
   "version": "3.8.5"
  }
 },
 "nbformat": 4,
 "nbformat_minor": 1
}
